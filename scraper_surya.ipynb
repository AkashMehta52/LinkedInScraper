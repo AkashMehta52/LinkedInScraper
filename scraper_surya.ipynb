{
 "cells": [
  {
   "cell_type": "code",
   "execution_count": 37,
   "metadata": {},
   "outputs": [],
   "source": [
    "## This is Surya's version\n",
    "from selenium import webdriver\n",
    "from selenium.webdriver.common.keys import Keys\n",
    "import time"
   ]
  },
  {
   "cell_type": "markdown",
   "metadata": {},
   "source": [
    "## Login to linkedin for verification"
   ]
  },
  {
   "cell_type": "code",
   "execution_count": 53,
   "metadata": {},
   "outputs": [],
   "source": [
    "driver = webdriver.Chrome('/Users/suryagandikota/OneDrive/Github/LinkedInScraper/chromedriver')\n",
    "driver.get('https://www.linkedin.com')\n",
    "\n",
    "username = driver.find_element_by_id('session_key')\n",
    "password = driver.find_element_by_id('session_password')\n",
    "login_button = driver.find_element_by_class_name('sign-in-form__submit-button')\n",
    "\n",
    "username.send_keys('suryagandikota@hotmail.com')\n",
    "password.send_keys('Pp995271!')\n",
    "login_button.click()\n",
    "time.sleep(1)"
   ]
  },
  {
   "cell_type": "code",
   "execution_count": 60,
   "metadata": {},
   "outputs": [],
   "source": [
    "keyword = 'computer engineering internship'\n",
    "location = 'Houston'\n",
    "\n",
    "global_jobs_button = driver.find_element_by_id('ember24')\n",
    "global_jobs_button.click()\n",
    "time.sleep(3)\n",
    "\n",
    "search_box_keyword = driver.find_element_by_class_name('jobs-search-box__text-input.jobs-search-box__keyboard-text-input')\n",
    "search_box_location = driver.find_element_by_id('jobs-search-box-location-id-ember1048')\n",
    "search_button = driver.find_element_by_class_name('jobs-search-box__submit-button.artdeco-button.artdeco-button--3.jobs-home-soho__mvp-button')\n",
    "\n",
    "search_box_keyword.send_keys(keyword)\n",
    "search_box_location.send_keys(location)\n",
    "search_button.send_keys(Keys.RETURN)"
   ]
  },
  {
   "cell_type": "code",
   "execution_count": null,
   "metadata": {},
   "outputs": [],
   "source": []
  },
  {
   "cell_type": "code",
   "execution_count": null,
   "metadata": {},
   "outputs": [],
   "source": []
  },
  {
   "cell_type": "code",
   "execution_count": null,
   "metadata": {},
   "outputs": [],
   "source": []
  },
  {
   "cell_type": "code",
   "execution_count": 38,
   "metadata": {},
   "outputs": [],
   "source": [
    "driver.get('https://www.google.com')\n",
    "search_box = driver.find_element_by_class_name('gLFyf.gsfi')\n",
    "search_box.send_keys('linkedin job postings near me')\n",
    "search_box.send_keys(Keys.RETURN)"
   ]
  },
  {
   "cell_type": "code",
   "execution_count": 39,
   "metadata": {},
   "outputs": [],
   "source": [
    "google_urls = [url.text for url in driver.find_elements_by_class_name('LC20lb.DKV0Md')]"
   ]
  },
  {
   "cell_type": "code",
   "execution_count": 40,
   "metadata": {},
   "outputs": [
    {
     "data": {
      "text/plain": [
       "['LinkedIn Job Search: Find US Jobs, Internships, Jobs Near Me',\n",
       " '823 Hiring jobs in College Station, Texas, United ... - LinkedIn',\n",
       " '207 Recruitment jobs in College Station, Texas ... - LinkedIn',\n",
       " '',\n",
       " '',\n",
       " '',\n",
       " '',\n",
       " '51 Linkedin jobs in College Station, Texas, United States',\n",
       " '3000+ Jobs in College Station, Texas, United ... - LinkedIn',\n",
       " 'LinkedIn Careers: Find Your Opportunity Here',\n",
       " '149,000+ Linkedin jobs in United States (10,654 new)',\n",
       " '3000+ Jobs in Bryan, Texas, United States (31 new) - LinkedIn',\n",
       " '5774000+ Jobs in United States (395736 new) - LinkedIn']"
      ]
     },
     "execution_count": 40,
     "metadata": {},
     "output_type": "execute_result"
    }
   ],
   "source": [
    "google_urls"
   ]
  },
  {
   "cell_type": "code",
   "execution_count": null,
   "metadata": {},
   "outputs": [],
   "source": []
  }
 ],
 "metadata": {
  "kernelspec": {
   "display_name": "Python 3",
   "language": "python",
   "name": "python3"
  },
  "language_info": {
   "codemirror_mode": {
    "name": "ipython",
    "version": 3
   },
   "file_extension": ".py",
   "mimetype": "text/x-python",
   "name": "python",
   "nbconvert_exporter": "python",
   "pygments_lexer": "ipython3",
   "version": "3.9.4"
  },
  "metadata": {
   "interpreter": {
    "hash": "31f2aee4e71d21fbe5cf8b01ff0e069b9275f58929596ceb00d14d90e3e16cd6"
   }
  }
 },
 "nbformat": 4,
 "nbformat_minor": 4
}
