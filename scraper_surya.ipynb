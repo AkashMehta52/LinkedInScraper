{
 "cells": [
  {
   "cell_type": "code",
   "execution_count": 23,
   "metadata": {},
   "outputs": [],
   "source": [
    "## This is Surya's version\n",
    "from selenium import webdriver\n",
    "from selenium.webdriver.common.keys import Keys"
   ]
  },
  {
   "cell_type": "code",
   "execution_count": 14,
   "metadata": {},
   "outputs": [],
   "source": [
    "driver = webdriver.Chrome('/Users/suryagandikota/OneDrive/Github/LinkedInScraper/chromedriver')\n",
    "driver.get('https://www.linkedin.com')"
   ]
  },
  {
   "cell_type": "code",
   "execution_count": 16,
   "metadata": {},
   "outputs": [],
   "source": [
    "username = driver.find_element_by_id('session_key')\n",
    "password = driver.find_element_by_id('session_password')\n",
    "login_button = driver.find_element_by_class_name('sign-in-form__submit-button')\n",
    "\n",
    "username.send_keys('suryagandikota@hotmail.com')\n",
    "password.send_keys('Pp995271!')\n",
    "login_button.click()"
   ]
  },
  {
   "cell_type": "code",
   "execution_count": 24,
   "metadata": {},
   "outputs": [],
   "source": [
    "driver.get('https://www.google.com')\n",
    "search_box = driver.find_element_by_class_name('gLFyf.gsfi')\n",
    "search_box.send_keys('linkedin job postings near me')\n",
    "search_box.send_keys(Keys.RETURN)"
   ]
  },
  {
   "cell_type": "code",
   "execution_count": 29,
   "metadata": {},
   "outputs": [],
   "source": [
    "google_urls = [url.text for url in driver.find_elements_by_class_name('LC20lb.DKV0Md')]"
   ]
  },
  {
   "cell_type": "code",
   "execution_count": 30,
   "metadata": {},
   "outputs": [
    {
     "data": {
      "text/plain": [
       "['LinkedIn Job Search: Find US Jobs, Internships, Jobs Near Me',\n",
       " '3000+ Jobs in College Station, Texas, United ... - LinkedIn',\n",
       " '823 Hiring jobs in College Station, Texas, United ... - LinkedIn',\n",
       " '',\n",
       " '',\n",
       " '',\n",
       " '',\n",
       " 'LinkedIn Careers: Find Your Opportunity Here',\n",
       " '250 Linkedin jobs in College Station, Texas, United States (5 ...',\n",
       " '153,000+ Linkedin jobs in United States (14,261 new)',\n",
       " '5774000+ Jobs in United States (395736 new) - LinkedIn',\n",
       " 'Post Jobs - Employer Job Postings | LinkedIn Talent Solutions',\n",
       " 'Post a Job on LinkedIn | LinkedIn Help']"
      ]
     },
     "execution_count": 30,
     "metadata": {},
     "output_type": "execute_result"
    }
   ],
   "source": [
    "google_urls"
   ]
  },
  {
   "cell_type": "code",
   "execution_count": null,
   "metadata": {},
   "outputs": [],
   "source": []
  }
 ],
 "metadata": {
  "kernelspec": {
   "display_name": "Python 3",
   "language": "python",
   "name": "python3"
  },
  "language_info": {
   "codemirror_mode": {
    "name": "ipython",
    "version": 3
   },
   "file_extension": ".py",
   "mimetype": "text/x-python",
   "name": "python",
   "nbconvert_exporter": "python",
   "pygments_lexer": "ipython3",
   "version": "3.9.4"
  },
  "metadata": {
   "interpreter": {
    "hash": "31f2aee4e71d21fbe5cf8b01ff0e069b9275f58929596ceb00d14d90e3e16cd6"
   }
  }
 },
 "nbformat": 4,
 "nbformat_minor": 4
}
